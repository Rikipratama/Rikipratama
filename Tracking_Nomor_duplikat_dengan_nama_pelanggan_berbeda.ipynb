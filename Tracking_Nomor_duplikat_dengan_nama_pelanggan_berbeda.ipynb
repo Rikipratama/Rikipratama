{
  "nbformat": 4,
  "nbformat_minor": 0,
  "metadata": {
    "colab": {
      "provenance": [],
      "authorship_tag": "ABX9TyMqJlEfgOjnftQGPwvLyxsg",
      "include_colab_link": true
    },
    "kernelspec": {
      "name": "python3",
      "display_name": "Python 3"
    },
    "language_info": {
      "name": "python"
    }
  },
  "cells": [
    {
      "cell_type": "markdown",
      "metadata": {
        "id": "view-in-github",
        "colab_type": "text"
      },
      "source": [
        "<a href=\"https://colab.research.google.com/github/Rikipratama/Rikipratama/blob/main/Tracking_Nomor_duplikat_dengan_nama_pelanggan_berbeda.ipynb\" target=\"_parent\"><img src=\"https://colab.research.google.com/assets/colab-badge.svg\" alt=\"Open In Colab\"/></a>"
      ]
    },
    {
      "cell_type": "code",
      "execution_count": 1,
      "metadata": {
        "colab": {
          "base_uri": "https://localhost:8080/"
        },
        "id": "3Q_Sno4dWyZ5",
        "outputId": "84df1059-8e08-4cea-9a45-1ea6b46e786f"
      },
      "outputs": [
        {
          "output_type": "stream",
          "name": "stdout",
          "text": [
            "       Telepon     Nama Pelanggan Status Pelanggan\n",
            "0  85244519695      APOTEK SAFIRA           Apotek\n",
            "1  85643551787     OUTLET IMOGIRI  Cabang Internal\n",
            "2  81392144978            TKP EDO          Perawat\n",
            "3  89608276383  OUTLET NUMBER ONE  Cabang Internal\n",
            "4  82223100719      OUTLET BROSOT  Cabang Internal\n"
          ]
        }
      ],
      "source": [
        "import pandas as pd\n",
        "data = pd.read_excel(\"/content/data customer khusus apotek bantul 2024.xlsx\")\n",
        "print(data.head())"
      ]
    },
    {
      "cell_type": "code",
      "source": [
        "data.columns"
      ],
      "metadata": {
        "colab": {
          "base_uri": "https://localhost:8080/"
        },
        "id": "JS71BjbMXkXw",
        "outputId": "43528008-2a05-4652-db9c-84834d31581a"
      },
      "execution_count": 2,
      "outputs": [
        {
          "output_type": "execute_result",
          "data": {
            "text/plain": [
              "Index(['Telepon', 'Nama Pelanggan', 'Status Pelanggan'], dtype='object')"
            ]
          },
          "metadata": {},
          "execution_count": 2
        }
      ]
    },
    {
      "cell_type": "code",
      "source": [
        "import pandas as pd\n",
        "\n",
        "# Membaca file Excel\n",
        "data = pd.read_excel(\"/content/data customer khusus apotek bantul 2024.xlsx\")\n",
        "\n",
        "# Mengelompokkan berdasarkan nomor telepon\n",
        "grouped = data.groupby(\"Telepon\").agg(lambda x: list(x)).reset_index()\n",
        "\n",
        "# Menyiapkan struktur data baru\n",
        "output_data = []\n",
        "\n",
        "for _, row in grouped.iterrows():\n",
        "    telepon = row[\"Telepon\"]\n",
        "    nama_pelanggan = row[\"Nama Pelanggan\"]\n",
        "    status_pelanggan = row[\"Status Pelanggan\"][0]  # Status pelanggan diasumsikan sama\n",
        "\n",
        "    # Membuat dictionary untuk setiap baris output\n",
        "    row_dict = {\n",
        "        \"Telepon 1\": telepon,\n",
        "        \"Status Pelanggan\": status_pelanggan\n",
        "    }\n",
        "\n",
        "    # Menambahkan nama pelanggan secara dinamis\n",
        "    for i, nama in enumerate(nama_pelanggan):\n",
        "        row_dict[f\"Nama {i+1}\"] = nama\n",
        "\n",
        "    output_data.append(row_dict)\n",
        "\n",
        "# Mengubah list of dict menjadi DataFrame\n",
        "output_df = pd.DataFrame(output_data)\n",
        "\n",
        "# Menampilkan hasil\n",
        "print(output_df.head())\n",
        "\n",
        "# Menyimpan hasil ke file Excel\n",
        "output_df.to_excel(\"output_customer_grouped.xlsx\", index=False)"
      ],
      "metadata": {
        "colab": {
          "base_uri": "https://localhost:8080/"
        },
        "id": "ia6IcGsrXoPS",
        "outputId": "f3b8669c-2237-41d7-a368-2640f275fd17"
      },
      "execution_count": 6,
      "outputs": [
        {
          "output_type": "stream",
          "name": "stdout",
          "text": [
            "   Telepon 1 Status Pelanggan              Nama 1 Nama 2\n",
            "0  123452781         Instansi        MITRA HUSADA    NaN\n",
            "1  123456789        Pelanggan       OUTNET NAJMAH    NaN\n",
            "2  435483042        Pelanggan        DIAH PUSPITA    NaN\n",
            "3  811252834           Dokter  TKD WIWIEK EKAWATI    NaN\n",
            "4  811257926        Pelanggan           BPK TOHIR    NaN\n"
          ]
        }
      ]
    },
    {
      "cell_type": "code",
      "source": [],
      "metadata": {
        "id": "IL4Er5BMYn7B"
      },
      "execution_count": null,
      "outputs": []
    }
  ]
}