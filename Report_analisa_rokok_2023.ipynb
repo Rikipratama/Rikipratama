{
  "nbformat": 4,
  "nbformat_minor": 0,
  "metadata": {
    "colab": {
      "provenance": [],
      "authorship_tag": "ABX9TyM1lTM5024utqnTJuOpKlV4",
      "include_colab_link": true
    },
    "kernelspec": {
      "name": "python3",
      "display_name": "Python 3"
    },
    "language_info": {
      "name": "python"
    }
  },
  "cells": [
    {
      "cell_type": "markdown",
      "metadata": {
        "id": "view-in-github",
        "colab_type": "text"
      },
      "source": [
        "<a href=\"https://colab.research.google.com/github/Rikipratama/Rikipratama/blob/main/Report_analisa_rokok_2023.ipynb\" target=\"_parent\"><img src=\"https://colab.research.google.com/assets/colab-badge.svg\" alt=\"Open In Colab\"/></a>"
      ]
    },
    {
      "cell_type": "code",
      "execution_count": null,
      "metadata": {
        "colab": {
          "base_uri": "https://localhost:8080/"
        },
        "id": "g4ddTA4qbAh2",
        "outputId": "53569237-b4b1-45ec-93a8-d28eed355b29"
      },
      "outputs": [
        {
          "output_type": "stream",
          "name": "stdout",
          "text": [
            "Collecting dash\n",
            "  Downloading dash-2.18.2-py3-none-any.whl.metadata (10 kB)\n",
            "Requirement already satisfied: pandas in /usr/local/lib/python3.11/dist-packages (2.2.2)\n",
            "Requirement already satisfied: plotly in /usr/local/lib/python3.11/dist-packages (5.24.1)\n",
            "Collecting Flask<3.1,>=1.0.4 (from dash)\n",
            "  Downloading flask-3.0.3-py3-none-any.whl.metadata (3.2 kB)\n",
            "Collecting Werkzeug<3.1 (from dash)\n",
            "  Downloading werkzeug-3.0.6-py3-none-any.whl.metadata (3.7 kB)\n",
            "Collecting dash-html-components==2.0.0 (from dash)\n",
            "  Downloading dash_html_components-2.0.0-py3-none-any.whl.metadata (3.8 kB)\n",
            "Collecting dash-core-components==2.0.0 (from dash)\n",
            "  Downloading dash_core_components-2.0.0-py3-none-any.whl.metadata (2.9 kB)\n",
            "Collecting dash-table==5.0.0 (from dash)\n",
            "  Downloading dash_table-5.0.0-py3-none-any.whl.metadata (2.4 kB)\n",
            "Requirement already satisfied: importlib-metadata in /usr/local/lib/python3.11/dist-packages (from dash) (8.6.1)\n",
            "Requirement already satisfied: typing-extensions>=4.1.1 in /usr/local/lib/python3.11/dist-packages (from dash) (4.12.2)\n",
            "Requirement already satisfied: requests in /usr/local/lib/python3.11/dist-packages (from dash) (2.32.3)\n",
            "Collecting retrying (from dash)\n",
            "  Downloading retrying-1.3.4-py3-none-any.whl.metadata (6.9 kB)\n",
            "Requirement already satisfied: nest-asyncio in /usr/local/lib/python3.11/dist-packages (from dash) (1.6.0)\n",
            "Requirement already satisfied: setuptools in /usr/local/lib/python3.11/dist-packages (from dash) (75.1.0)\n",
            "Requirement already satisfied: numpy>=1.23.2 in /usr/local/lib/python3.11/dist-packages (from pandas) (1.26.4)\n",
            "Requirement already satisfied: python-dateutil>=2.8.2 in /usr/local/lib/python3.11/dist-packages (from pandas) (2.8.2)\n",
            "Requirement already satisfied: pytz>=2020.1 in /usr/local/lib/python3.11/dist-packages (from pandas) (2025.1)\n",
            "Requirement already satisfied: tzdata>=2022.7 in /usr/local/lib/python3.11/dist-packages (from pandas) (2025.1)\n",
            "Requirement already satisfied: tenacity>=6.2.0 in /usr/local/lib/python3.11/dist-packages (from plotly) (9.0.0)\n",
            "Requirement already satisfied: packaging in /usr/local/lib/python3.11/dist-packages (from plotly) (24.2)\n",
            "Requirement already satisfied: Jinja2>=3.1.2 in /usr/local/lib/python3.11/dist-packages (from Flask<3.1,>=1.0.4->dash) (3.1.5)\n",
            "Requirement already satisfied: itsdangerous>=2.1.2 in /usr/local/lib/python3.11/dist-packages (from Flask<3.1,>=1.0.4->dash) (2.2.0)\n",
            "Requirement already satisfied: click>=8.1.3 in /usr/local/lib/python3.11/dist-packages (from Flask<3.1,>=1.0.4->dash) (8.1.8)\n",
            "Requirement already satisfied: blinker>=1.6.2 in /usr/local/lib/python3.11/dist-packages (from Flask<3.1,>=1.0.4->dash) (1.9.0)\n",
            "Requirement already satisfied: six>=1.5 in /usr/local/lib/python3.11/dist-packages (from python-dateutil>=2.8.2->pandas) (1.17.0)\n",
            "Requirement already satisfied: MarkupSafe>=2.1.1 in /usr/local/lib/python3.11/dist-packages (from Werkzeug<3.1->dash) (3.0.2)\n",
            "Requirement already satisfied: zipp>=3.20 in /usr/local/lib/python3.11/dist-packages (from importlib-metadata->dash) (3.21.0)\n",
            "Requirement already satisfied: charset-normalizer<4,>=2 in /usr/local/lib/python3.11/dist-packages (from requests->dash) (3.4.1)\n",
            "Requirement already satisfied: idna<4,>=2.5 in /usr/local/lib/python3.11/dist-packages (from requests->dash) (3.10)\n",
            "Requirement already satisfied: urllib3<3,>=1.21.1 in /usr/local/lib/python3.11/dist-packages (from requests->dash) (2.3.0)\n",
            "Requirement already satisfied: certifi>=2017.4.17 in /usr/local/lib/python3.11/dist-packages (from requests->dash) (2025.1.31)\n",
            "Downloading dash-2.18.2-py3-none-any.whl (7.8 MB)\n",
            "\u001b[2K   \u001b[90m━━━━━━━━━━━━━━━━━━━━━━━━━━━━━━━━━━━━━━━━\u001b[0m \u001b[32m7.8/7.8 MB\u001b[0m \u001b[31m41.4 MB/s\u001b[0m eta \u001b[36m0:00:00\u001b[0m\n",
            "\u001b[?25hDownloading dash_core_components-2.0.0-py3-none-any.whl (3.8 kB)\n",
            "Downloading dash_html_components-2.0.0-py3-none-any.whl (4.1 kB)\n",
            "Downloading dash_table-5.0.0-py3-none-any.whl (3.9 kB)\n",
            "Downloading flask-3.0.3-py3-none-any.whl (101 kB)\n",
            "\u001b[2K   \u001b[90m━━━━━━━━━━━━━━━━━━━━━━━━━━━━━━━━━━━━━━━━\u001b[0m \u001b[32m101.7/101.7 kB\u001b[0m \u001b[31m7.4 MB/s\u001b[0m eta \u001b[36m0:00:00\u001b[0m\n",
            "\u001b[?25hDownloading werkzeug-3.0.6-py3-none-any.whl (227 kB)\n",
            "\u001b[2K   \u001b[90m━━━━━━━━━━━━━━━━━━━━━━━━━━━━━━━━━━━━━━━━\u001b[0m \u001b[32m228.0/228.0 kB\u001b[0m \u001b[31m17.7 MB/s\u001b[0m eta \u001b[36m0:00:00\u001b[0m\n",
            "\u001b[?25hDownloading retrying-1.3.4-py3-none-any.whl (11 kB)\n",
            "Installing collected packages: dash-table, dash-html-components, dash-core-components, Werkzeug, retrying, Flask, dash\n",
            "  Attempting uninstall: Werkzeug\n",
            "    Found existing installation: Werkzeug 3.1.3\n",
            "    Uninstalling Werkzeug-3.1.3:\n",
            "      Successfully uninstalled Werkzeug-3.1.3\n",
            "  Attempting uninstall: Flask\n",
            "    Found existing installation: Flask 3.1.0\n",
            "    Uninstalling Flask-3.1.0:\n",
            "      Successfully uninstalled Flask-3.1.0\n",
            "Successfully installed Flask-3.0.3 Werkzeug-3.0.6 dash-2.18.2 dash-core-components-2.0.0 dash-html-components-2.0.0 dash-table-5.0.0 retrying-1.3.4\n"
          ]
        }
      ],
      "source": [
        "pip install dash pandas plotly"
      ]
    },
    {
      "cell_type": "code",
      "source": [
        "import dash\n",
        "from dash import dcc, html\n",
        "import pandas as pd\n",
        "import plotly.express as px\n",
        "\n",
        "# Data Produktivitas Kasir\n",
        "data_kasir = pd.DataFrame({\n",
        "    \"Kasir\": [\"AQ (AQ)\", \"FA (FA)\", \"O (O)\", \"SALMA HIKMAWATI (PADLU TATU)\", \"SONA (SONA)\"],\n",
        "    \"Total Penjualan\": [360588349.6, 10014017.55, 376661162, 211461299.7, 391989111]\n",
        "})\n",
        "\n",
        "# Data Tren Penjualan\n",
        "data_tren = pd.DataFrame({\n",
        "    \"Bulan\": [\"January\", \"February\", \"March\", \"April\", \"May\", \"June\", \"July\", \"August\", \"September\", \"October\", \"November\", \"December\"],\n",
        "    \"Total Penjualan\": [201853984.5, 180120072.3, 187503056.1, 226859738.7, 216806160.8, 52871997.76, 52051680.86, 53867717.01, 48792975.89, 47274199.47, 40494975.11, 42217381.41]\n",
        "})\n",
        "\n",
        "# Data Top 10 Rokok Teromzet\n",
        "data_rokok_omzet = pd.DataFrame({\n",
        "    \"Produk\": [\n",
        "        \"DJARUM SUPER 12S\", \"DJI SAM SOE REFILL SUP PRE 12\", \"GUDANG GARAM FILTER INTERNATIONAL12S\",\n",
        "        \"GUDANG GARAM SIGNATURE FILTER 12\", \"GG SURYA 12'S MERAH\", \"GG SURYA COKLAT 16'S\",\n",
        "        \"SAMPOERNA MILD MERAH 16S\", \"DIPLOMAT EVO 16'S\", \"SEHAT TENTREM RAOS PALING ECO\", \"WIN FILTER 20\"\n",
        "    ],\n",
        "    \"Omzet\": [41631248.6, 24633704.92, 24340652.98, 29266308.21, 68879498.2, 73589120.17, 77687955.63, 29591270.1, 34309742.45, 29734641.57]\n",
        "})\n",
        "\n",
        "# Data Top 10 Rokok Terlaris\n",
        "data_rokok_terlaris = pd.DataFrame({\n",
        "    \"Produk\": [\n",
        "        \"DJARUM SUPER 12S\", \"DJI SAM SOE REFILL SUP PRE 12\", \"GUDANG GARAM FILTER INTERNATIONAL12S\",\n",
        "        \"GUDANG GARAM SIGNATURE FILTER 12\", \"GG SURYA 12'S MERAH\", \"GG SURYA COKLAT 16'S\",\n",
        "        \"SAMPOERNA MILD MERAH 16S\", \"DIPLOMAT EVO 16'S\", \"SEHAT TENTREM RAOS PALING ECO\", \"WIN FILTER 20\"\n",
        "    ],\n",
        "    \"Qty Terjual\": [1815, 1256, 1029, 1356, 2984, 2393, 2585, 1493, 1005, 1310]\n",
        "})\n",
        "\n",
        "# Data Top 10 Waktu Teromzet\n",
        "data_waktu_omzet = pd.DataFrame({\n",
        "    \"Waktu\": [\"18:50\", \"19:10\", \"19:13\", \"19:54\", \"19:58\", \"20:11\", \"20:22\", \"20:23\", \"20:26\", \"20:41\"],\n",
        "    \"Omzet\": [2526080.35, 2621227.66, 2406196.29, 2734165.92, 2496403.71, 2430136.5, 2461651.28, 2460580.91, 2631518.34, 2401371.19]\n",
        "})\n",
        "\n",
        "# Data Top 10 Tanggal Teromzet\n",
        "data_tanggal_omzet = pd.DataFrame({\n",
        "    \"Tanggal\": [\"05/05/2023\", \"05/06/2023\", \"06/08/2023\", \"18/04/2023\", \"19/04/2023\", \"20/04/2023\", \"21/04/2023\", \"23/04/2023\", \"27/04/2023\", \"28/04/2023\"],\n",
        "    \"Omzet\": [11759267.16, 10456585.46, 10516044.16, 11151149.13, 10858011.01, 13146915.65, 13313758.85, 11907481.52, 11121817.85, 10505363.04]\n",
        "})\n",
        "\n",
        "# Data Tren Jumlah Transaksi\n",
        "data_trx = pd.DataFrame({\n",
        "    \"Bulan\": [\"January\", \"February\", \"March\", \"April\", \"May\", \"June\", \"July\", \"August\", \"September\", \"October\", \"November\", \"December\"],\n",
        "    \"Jumlah Transaksi\": [10117, 8949, 9311, 10449, 10213, 2522, 2471, 2556, 2449, 2362, 2061, 2070]\n",
        "})\n",
        "\n",
        "# Buat Aplikasi Dash\n",
        "app = dash.Dash(__name__)\n",
        "\n",
        "app.layout = html.Div([\n",
        "    html.H1(\"Dashboard Analisis Rokok 2023\", style={'textAlign': 'center'}),\n",
        "\n",
        "    # Grafik Produktivitas Kasir\n",
        "    dcc.Graph(figure=px.bar(data_kasir, x=\"Kasir\", y=\"Total Penjualan\", title=\"Produktivitas Kasir\", text_auto=True)),\n",
        "\n",
        "    # Grafik Tren Penjualan\n",
        "    dcc.Graph(figure=px.line(data_tren, x=\"Bulan\", y=\"Total Penjualan\", title=\"Tren Penjualan\")),\n",
        "\n",
        "    # Grafik Top 10 Rokok Teromzet\n",
        "    dcc.Graph(figure=px.bar(data_rokok_omzet, x=\"Produk\", y=\"Omzet\", title=\"Top 10 Rokok Teromzet\", text_auto=True)),\n",
        "\n",
        "    # Grafik Top 10 Rokok Terlaris\n",
        "    dcc.Graph(figure=px.bar(data_rokok_terlaris, x=\"Produk\", y=\"Qty Terjual\", title=\"Top 10 Rokok Terlaris\", text_auto=True)),\n",
        "\n",
        "    # Grafik Top 10 Waktu Teromzet\n",
        "    dcc.Graph(figure=px.bar(data_waktu_omzet, x=\"Waktu\", y=\"Omzet\", title=\"Top 10 Waktu Teromzet\", text_auto=True)),\n",
        "\n",
        "    # Grafik Top 10 Tanggal Teromzet\n",
        "    dcc.Graph(figure=px.bar(data_tanggal_omzet, x=\"Tanggal\", y=\"Omzet\", title=\"Top 10 Tanggal Teromzet\", text_auto=True)),\n",
        "\n",
        "    # Grafik Tren Jumlah Transaksi\n",
        "    dcc.Graph(figure=px.line(data_trx, x=\"Bulan\", y=\"Jumlah Transaksi\", title=\"Tren Jumlah Transaksi\"))\n",
        "])\n",
        "\n",
        "if __name__ == '__main__':\n",
        "    app.run_server(debug=True)\n"
      ],
      "metadata": {
        "colab": {
          "base_uri": "https://localhost:8080/",
          "height": 671
        },
        "id": "DoYcZ5csbEP5",
        "outputId": "5978dafa-0d55-48e0-de97-c93debdb30f0"
      },
      "execution_count": null,
      "outputs": [
        {
          "output_type": "display_data",
          "data": {
            "text/plain": [
              "<IPython.core.display.Javascript object>"
            ],
            "application/javascript": [
              "(async (port, path, width, height, cache, element) => {\n",
              "    if (!google.colab.kernel.accessAllowed && !cache) {\n",
              "      return;\n",
              "    }\n",
              "    element.appendChild(document.createTextNode(''));\n",
              "    const url = await google.colab.kernel.proxyPort(port, {cache});\n",
              "    const iframe = document.createElement('iframe');\n",
              "    iframe.src = new URL(path, url).toString();\n",
              "    iframe.height = height;\n",
              "    iframe.width = width;\n",
              "    iframe.style.border = 0;\n",
              "    iframe.allow = [\n",
              "        'accelerometer',\n",
              "        'autoplay',\n",
              "        'camera',\n",
              "        'clipboard-read',\n",
              "        'clipboard-write',\n",
              "        'gyroscope',\n",
              "        'magnetometer',\n",
              "        'microphone',\n",
              "        'serial',\n",
              "        'usb',\n",
              "        'xr-spatial-tracking',\n",
              "    ].join('; ');\n",
              "    element.appendChild(iframe);\n",
              "  })(8050, \"/\", \"100%\", 650, false, window.element)"
            ]
          },
          "metadata": {}
        }
      ]
    }
  ]
}